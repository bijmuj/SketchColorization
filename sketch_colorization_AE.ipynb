{
  "nbformat": 4,
  "nbformat_minor": 0,
  "metadata": {
    "colab": {
      "name": "sketch_colorization_AE.ipynb",
      "provenance": [],
      "authorship_tag": "ABX9TyNQXsrHFQ9CSUkmPDrYnrUa",
      "include_colab_link": true
    },
    "kernelspec": {
      "name": "python3",
      "display_name": "Python 3"
    },
    "language_info": {
      "name": "python"
    },
    "accelerator": "GPU"
  },
  "cells": [
    {
      "cell_type": "markdown",
      "metadata": {
        "id": "view-in-github",
        "colab_type": "text"
      },
      "source": [
        "<a href=\"https://colab.research.google.com/github/bijmuj/SketchColorization/blob/master/sketch_colorization_AE.ipynb\" target=\"_parent\"><img src=\"https://colab.research.google.com/assets/colab-badge.svg\" alt=\"Open In Colab\"/></a>"
      ]
    },
    {
      "cell_type": "code",
      "metadata": {
        "colab": {
          "base_uri": "https://localhost:8080/"
        },
        "id": "bZM-FhmEdaOk",
        "outputId": "1dc7848f-cb4d-4679-e74e-0992311940e1"
      },
      "source": [
        "!nvidia-smi"
      ],
      "execution_count": null,
      "outputs": [
        {
          "output_type": "stream",
          "text": [
            "Fri Jun 18 14:45:26 2021       \n",
            "+-----------------------------------------------------------------------------+\n",
            "| NVIDIA-SMI 465.27       Driver Version: 460.32.03    CUDA Version: 11.2     |\n",
            "|-------------------------------+----------------------+----------------------+\n",
            "| GPU  Name        Persistence-M| Bus-Id        Disp.A | Volatile Uncorr. ECC |\n",
            "| Fan  Temp  Perf  Pwr:Usage/Cap|         Memory-Usage | GPU-Util  Compute M. |\n",
            "|                               |                      |               MIG M. |\n",
            "|===============================+======================+======================|\n",
            "|   0  Tesla T4            Off  | 00000000:00:04.0 Off |                    0 |\n",
            "| N/A   46C    P8    10W /  70W |      0MiB / 15109MiB |      0%      Default |\n",
            "|                               |                      |                  N/A |\n",
            "+-------------------------------+----------------------+----------------------+\n",
            "                                                                               \n",
            "+-----------------------------------------------------------------------------+\n",
            "| Processes:                                                                  |\n",
            "|  GPU   GI   CI        PID   Type   Process name                  GPU Memory |\n",
            "|        ID   ID                                                   Usage      |\n",
            "|=============================================================================|\n",
            "|  No running processes found                                                 |\n",
            "+-----------------------------------------------------------------------------+\n"
          ],
          "name": "stdout"
        }
      ]
    },
    {
      "cell_type": "code",
      "metadata": {
        "colab": {
          "base_uri": "https://localhost:8080/"
        },
        "id": "WYJDrpRnbTIZ",
        "outputId": "42ccc215-9cbc-43f5-f105-6d8e89e359c3"
      },
      "source": [
        "!pip install tensorflow-addons\n",
        "!pip install wandb\n",
        "!pip install kaggle\n",
        "!mkdir ~/.kaggle\n",
        "!chmod 600 kaggle.json\n",
        "!cp kaggle.json ~/.kaggle\n",
        "!kaggle datasets download -d ktaebum/anime-sketch-colorization-pair\n",
        "!unzip -q /content/anime-sketch-colorization-pair.zip -x \"data/data/*\" \"data/colorgram/*\""
      ],
      "execution_count": null,
      "outputs": [
        {
          "output_type": "stream",
          "text": [
            "Collecting tensorflow-addons\n",
            "\u001b[?25l  Downloading https://files.pythonhosted.org/packages/66/4b/e893d194e626c24b3df2253066aa418f46a432fdb68250cde14bf9bb0700/tensorflow_addons-0.13.0-cp37-cp37m-manylinux2010_x86_64.whl (679kB)\n",
            "\r\u001b[K     |▌                               | 10kB 25.0MB/s eta 0:00:01\r\u001b[K     |█                               | 20kB 18.3MB/s eta 0:00:01\r\u001b[K     |█▌                              | 30kB 15.3MB/s eta 0:00:01\r\u001b[K     |██                              | 40kB 14.1MB/s eta 0:00:01\r\u001b[K     |██▍                             | 51kB 7.5MB/s eta 0:00:01\r\u001b[K     |███                             | 61kB 7.3MB/s eta 0:00:01\r\u001b[K     |███▍                            | 71kB 8.1MB/s eta 0:00:01\r\u001b[K     |███▉                            | 81kB 8.8MB/s eta 0:00:01\r\u001b[K     |████▍                           | 92kB 9.2MB/s eta 0:00:01\r\u001b[K     |████▉                           | 102kB 7.4MB/s eta 0:00:01\r\u001b[K     |█████▎                          | 112kB 7.4MB/s eta 0:00:01\r\u001b[K     |█████▉                          | 122kB 7.4MB/s eta 0:00:01\r\u001b[K     |██████▎                         | 133kB 7.4MB/s eta 0:00:01\r\u001b[K     |██████▊                         | 143kB 7.4MB/s eta 0:00:01\r\u001b[K     |███████▎                        | 153kB 7.4MB/s eta 0:00:01\r\u001b[K     |███████▊                        | 163kB 7.4MB/s eta 0:00:01\r\u001b[K     |████████▏                       | 174kB 7.4MB/s eta 0:00:01\r\u001b[K     |████████▊                       | 184kB 7.4MB/s eta 0:00:01\r\u001b[K     |█████████▏                      | 194kB 7.4MB/s eta 0:00:01\r\u001b[K     |█████████▋                      | 204kB 7.4MB/s eta 0:00:01\r\u001b[K     |██████████▏                     | 215kB 7.4MB/s eta 0:00:01\r\u001b[K     |██████████▋                     | 225kB 7.4MB/s eta 0:00:01\r\u001b[K     |███████████                     | 235kB 7.4MB/s eta 0:00:01\r\u001b[K     |███████████▋                    | 245kB 7.4MB/s eta 0:00:01\r\u001b[K     |████████████                    | 256kB 7.4MB/s eta 0:00:01\r\u001b[K     |████████████▌                   | 266kB 7.4MB/s eta 0:00:01\r\u001b[K     |█████████████                   | 276kB 7.4MB/s eta 0:00:01\r\u001b[K     |█████████████▌                  | 286kB 7.4MB/s eta 0:00:01\r\u001b[K     |██████████████                  | 296kB 7.4MB/s eta 0:00:01\r\u001b[K     |██████████████▌                 | 307kB 7.4MB/s eta 0:00:01\r\u001b[K     |███████████████                 | 317kB 7.4MB/s eta 0:00:01\r\u001b[K     |███████████████▍                | 327kB 7.4MB/s eta 0:00:01\r\u001b[K     |████████████████                | 337kB 7.4MB/s eta 0:00:01\r\u001b[K     |████████████████▍               | 348kB 7.4MB/s eta 0:00:01\r\u001b[K     |████████████████▉               | 358kB 7.4MB/s eta 0:00:01\r\u001b[K     |█████████████████▍              | 368kB 7.4MB/s eta 0:00:01\r\u001b[K     |█████████████████▉              | 378kB 7.4MB/s eta 0:00:01\r\u001b[K     |██████████████████▎             | 389kB 7.4MB/s eta 0:00:01\r\u001b[K     |██████████████████▉             | 399kB 7.4MB/s eta 0:00:01\r\u001b[K     |███████████████████▎            | 409kB 7.4MB/s eta 0:00:01\r\u001b[K     |███████████████████▊            | 419kB 7.4MB/s eta 0:00:01\r\u001b[K     |████████████████████▎           | 430kB 7.4MB/s eta 0:00:01\r\u001b[K     |████████████████████▊           | 440kB 7.4MB/s eta 0:00:01\r\u001b[K     |█████████████████████▏          | 450kB 7.4MB/s eta 0:00:01\r\u001b[K     |█████████████████████▊          | 460kB 7.4MB/s eta 0:00:01\r\u001b[K     |██████████████████████▏         | 471kB 7.4MB/s eta 0:00:01\r\u001b[K     |██████████████████████▋         | 481kB 7.4MB/s eta 0:00:01\r\u001b[K     |███████████████████████▏        | 491kB 7.4MB/s eta 0:00:01\r\u001b[K     |███████████████████████▋        | 501kB 7.4MB/s eta 0:00:01\r\u001b[K     |████████████████████████        | 512kB 7.4MB/s eta 0:00:01\r\u001b[K     |████████████████████████▋       | 522kB 7.4MB/s eta 0:00:01\r\u001b[K     |█████████████████████████       | 532kB 7.4MB/s eta 0:00:01\r\u001b[K     |█████████████████████████▌      | 542kB 7.4MB/s eta 0:00:01\r\u001b[K     |██████████████████████████      | 552kB 7.4MB/s eta 0:00:01\r\u001b[K     |██████████████████████████▌     | 563kB 7.4MB/s eta 0:00:01\r\u001b[K     |███████████████████████████     | 573kB 7.4MB/s eta 0:00:01\r\u001b[K     |███████████████████████████▌    | 583kB 7.4MB/s eta 0:00:01\r\u001b[K     |████████████████████████████    | 593kB 7.4MB/s eta 0:00:01\r\u001b[K     |████████████████████████████▍   | 604kB 7.4MB/s eta 0:00:01\r\u001b[K     |█████████████████████████████   | 614kB 7.4MB/s eta 0:00:01\r\u001b[K     |█████████████████████████████▍  | 624kB 7.4MB/s eta 0:00:01\r\u001b[K     |█████████████████████████████▉  | 634kB 7.4MB/s eta 0:00:01\r\u001b[K     |██████████████████████████████▍ | 645kB 7.4MB/s eta 0:00:01\r\u001b[K     |██████████████████████████████▉ | 655kB 7.4MB/s eta 0:00:01\r\u001b[K     |███████████████████████████████▎| 665kB 7.4MB/s eta 0:00:01\r\u001b[K     |███████████████████████████████▉| 675kB 7.4MB/s eta 0:00:01\r\u001b[K     |████████████████████████████████| 686kB 7.4MB/s \n",
            "\u001b[?25hRequirement already satisfied: typeguard>=2.7 in /usr/local/lib/python3.7/dist-packages (from tensorflow-addons) (2.7.1)\n",
            "Installing collected packages: tensorflow-addons\n",
            "Successfully installed tensorflow-addons-0.13.0\n",
            "Collecting wandb\n",
            "\u001b[?25l  Downloading https://files.pythonhosted.org/packages/e0/b4/9d92953d8cddc8450c859be12e3dbdd4c7754fb8def94c28b3b351c6ee4e/wandb-0.10.32-py2.py3-none-any.whl (1.8MB)\n",
            "\u001b[K     |████████████████████████████████| 1.8MB 7.4MB/s \n",
            "\u001b[?25hRequirement already satisfied: requests<3,>=2.0.0 in /usr/local/lib/python3.7/dist-packages (from wandb) (2.23.0)\n",
            "Collecting sentry-sdk>=0.4.0\n",
            "\u001b[?25l  Downloading https://files.pythonhosted.org/packages/1c/4a/a54b254f67d8f4052338d54ebe90126f200693440a93ef76d254d581e3ec/sentry_sdk-1.1.0-py2.py3-none-any.whl (131kB)\n",
            "\u001b[K     |████████████████████████████████| 133kB 52.7MB/s \n",
            "\u001b[?25hRequirement already satisfied: Click!=8.0.0,>=7.0 in /usr/local/lib/python3.7/dist-packages (from wandb) (7.1.2)\n",
            "Collecting docker-pycreds>=0.4.0\n",
            "  Downloading https://files.pythonhosted.org/packages/f5/e8/f6bd1eee09314e7e6dee49cbe2c5e22314ccdb38db16c9fc72d2fa80d054/docker_pycreds-0.4.0-py2.py3-none-any.whl\n",
            "Requirement already satisfied: psutil>=5.0.0 in /usr/local/lib/python3.7/dist-packages (from wandb) (5.4.8)\n",
            "Requirement already satisfied: PyYAML in /usr/local/lib/python3.7/dist-packages (from wandb) (3.13)\n",
            "Requirement already satisfied: protobuf>=3.12.0 in /usr/local/lib/python3.7/dist-packages (from wandb) (3.12.4)\n",
            "Requirement already satisfied: six>=1.13.0 in /usr/local/lib/python3.7/dist-packages (from wandb) (1.15.0)\n",
            "Collecting pathtools\n",
            "  Downloading https://files.pythonhosted.org/packages/e7/7f/470d6fcdf23f9f3518f6b0b76be9df16dcc8630ad409947f8be2eb0ed13a/pathtools-0.1.2.tar.gz\n",
            "Requirement already satisfied: promise<3,>=2.0 in /usr/local/lib/python3.7/dist-packages (from wandb) (2.3)\n",
            "Collecting configparser>=3.8.1\n",
            "  Downloading https://files.pythonhosted.org/packages/fd/01/ff260a18caaf4457eb028c96eeb405c4a230ca06c8ec9c1379f813caa52e/configparser-5.0.2-py3-none-any.whl\n",
            "Collecting subprocess32>=3.5.3\n",
            "\u001b[?25l  Downloading https://files.pythonhosted.org/packages/32/c8/564be4d12629b912ea431f1a50eb8b3b9d00f1a0b1ceff17f266be190007/subprocess32-3.5.4.tar.gz (97kB)\n",
            "\u001b[K     |████████████████████████████████| 102kB 14.9MB/s \n",
            "\u001b[?25hRequirement already satisfied: python-dateutil>=2.6.1 in /usr/local/lib/python3.7/dist-packages (from wandb) (2.8.1)\n",
            "Collecting shortuuid>=0.5.0\n",
            "  Downloading https://files.pythonhosted.org/packages/25/a6/2ecc1daa6a304e7f1b216f0896b26156b78e7c38e1211e9b798b4716c53d/shortuuid-1.0.1-py3-none-any.whl\n",
            "Collecting GitPython>=1.0.0\n",
            "\u001b[?25l  Downloading https://files.pythonhosted.org/packages/bc/91/b38c4fabb6e5092ab23492ded4f318ab7299b19263272b703478038c0fbc/GitPython-3.1.18-py3-none-any.whl (170kB)\n",
            "\u001b[K     |████████████████████████████████| 174kB 48.9MB/s \n",
            "\u001b[?25hRequirement already satisfied: urllib3!=1.25.0,!=1.25.1,<1.26,>=1.21.1 in /usr/local/lib/python3.7/dist-packages (from requests<3,>=2.0.0->wandb) (1.24.3)\n",
            "Requirement already satisfied: idna<3,>=2.5 in /usr/local/lib/python3.7/dist-packages (from requests<3,>=2.0.0->wandb) (2.10)\n",
            "Requirement already satisfied: certifi>=2017.4.17 in /usr/local/lib/python3.7/dist-packages (from requests<3,>=2.0.0->wandb) (2021.5.30)\n",
            "Requirement already satisfied: chardet<4,>=3.0.2 in /usr/local/lib/python3.7/dist-packages (from requests<3,>=2.0.0->wandb) (3.0.4)\n",
            "Requirement already satisfied: setuptools in /usr/local/lib/python3.7/dist-packages (from protobuf>=3.12.0->wandb) (57.0.0)\n",
            "Collecting gitdb<5,>=4.0.1\n",
            "\u001b[?25l  Downloading https://files.pythonhosted.org/packages/ea/e8/f414d1a4f0bbc668ed441f74f44c116d9816833a48bf81d22b697090dba8/gitdb-4.0.7-py3-none-any.whl (63kB)\n",
            "\u001b[K     |████████████████████████████████| 71kB 11.4MB/s \n",
            "\u001b[?25hRequirement already satisfied: typing-extensions>=3.7.4.0; python_version < \"3.8\" in /usr/local/lib/python3.7/dist-packages (from GitPython>=1.0.0->wandb) (3.7.4.3)\n",
            "Collecting smmap<5,>=3.0.1\n",
            "  Downloading https://files.pythonhosted.org/packages/68/ee/d540eb5e5996eb81c26ceffac6ee49041d473bc5125f2aa995cf51ec1cf1/smmap-4.0.0-py2.py3-none-any.whl\n",
            "Building wheels for collected packages: pathtools, subprocess32\n",
            "  Building wheel for pathtools (setup.py) ... \u001b[?25l\u001b[?25hdone\n",
            "  Created wheel for pathtools: filename=pathtools-0.1.2-cp37-none-any.whl size=8807 sha256=6dd62a46c10c832d813af8778fcb6b1f484ca94367e14c7cd00c2310da63ea11\n",
            "  Stored in directory: /root/.cache/pip/wheels/0b/04/79/c3b0c3a0266a3cb4376da31e5bfe8bba0c489246968a68e843\n",
            "  Building wheel for subprocess32 (setup.py) ... \u001b[?25l\u001b[?25hdone\n",
            "  Created wheel for subprocess32: filename=subprocess32-3.5.4-cp37-none-any.whl size=6502 sha256=de3f4f2ca88ab3bc473e504e165c09a78dfc3fe4e46f45b6433e1130433dbf5e\n",
            "  Stored in directory: /root/.cache/pip/wheels/68/39/1a/5e402bdfdf004af1786c8b853fd92f8c4a04f22aad179654d1\n",
            "Successfully built pathtools subprocess32\n",
            "Installing collected packages: sentry-sdk, docker-pycreds, pathtools, configparser, subprocess32, shortuuid, smmap, gitdb, GitPython, wandb\n",
            "Successfully installed GitPython-3.1.18 configparser-5.0.2 docker-pycreds-0.4.0 gitdb-4.0.7 pathtools-0.1.2 sentry-sdk-1.1.0 shortuuid-1.0.1 smmap-4.0.0 subprocess32-3.5.4 wandb-0.10.32\n",
            "Requirement already satisfied: kaggle in /usr/local/lib/python3.7/dist-packages (1.5.12)\n",
            "Requirement already satisfied: certifi in /usr/local/lib/python3.7/dist-packages (from kaggle) (2021.5.30)\n",
            "Requirement already satisfied: python-dateutil in /usr/local/lib/python3.7/dist-packages (from kaggle) (2.8.1)\n",
            "Requirement already satisfied: urllib3 in /usr/local/lib/python3.7/dist-packages (from kaggle) (1.24.3)\n",
            "Requirement already satisfied: requests in /usr/local/lib/python3.7/dist-packages (from kaggle) (2.23.0)\n",
            "Requirement already satisfied: six>=1.10 in /usr/local/lib/python3.7/dist-packages (from kaggle) (1.15.0)\n",
            "Requirement already satisfied: python-slugify in /usr/local/lib/python3.7/dist-packages (from kaggle) (5.0.2)\n",
            "Requirement already satisfied: tqdm in /usr/local/lib/python3.7/dist-packages (from kaggle) (4.41.1)\n",
            "Requirement already satisfied: chardet<4,>=3.0.2 in /usr/local/lib/python3.7/dist-packages (from requests->kaggle) (3.0.4)\n",
            "Requirement already satisfied: idna<3,>=2.5 in /usr/local/lib/python3.7/dist-packages (from requests->kaggle) (2.10)\n",
            "Requirement already satisfied: text-unidecode>=1.3 in /usr/local/lib/python3.7/dist-packages (from python-slugify->kaggle) (1.3)\n",
            "Downloading anime-sketch-colorization-pair.zip to /content\n",
            "100% 11.6G/11.6G [04:41<00:00, 58.0MB/s]\n",
            "100% 11.6G/11.6G [04:41<00:00, 44.4MB/s]\n"
          ],
          "name": "stdout"
        }
      ]
    },
    {
      "cell_type": "code",
      "metadata": {
        "id": "d1Vv1AA7r0Xw"
      },
      "source": [
        "import os\n",
        "import glob\n",
        "import time\n",
        "import wandb\n",
        "import numpy as np\n",
        "import matplotlib.pyplot as plt\n",
        "%matplotlib inline\n",
        "import tensorflow as tf\n",
        "import tensorflow_addons as tfa\n",
        "from tensorflow.keras.layers import Input,Conv2D, Conv2DTranspose, BatchNormalization, Dropout, LeakyReLU\n",
        "from tensorflow.keras.models import Model\n",
        "from tqdm import tqdm\n",
        "from PIL import Image as im"
      ],
      "execution_count": null,
      "outputs": []
    },
    {
      "cell_type": "code",
      "metadata": {
        "id": "EvKpVRmAtibP"
      },
      "source": [
        "BATCH_SIZE = 28\n",
        "BUFFER_SIZE = 800\n",
        "EPOCHS = 20\n",
        "LR = 1e-4\n",
        "beta_1 = 0.5\n",
        "beta_2 = 0.999\n",
        "initializer = tf.random_normal_initializer(0, 0.02)"
      ],
      "execution_count": null,
      "outputs": []
    },
    {
      "cell_type": "code",
      "metadata": {
        "colab": {
          "base_uri": "https://localhost:8080/",
          "height": 136
        },
        "id": "ondmAx8EZgXV",
        "outputId": "5a43fa4d-302d-4e89-e3d7-0ddc746cf214"
      },
      "source": [
        "wandb.login()\n",
        "run = wandb.init(project=\"sketch_colorization\", entity=\"bijin\")\n",
        "config = wandb.config\n",
        "config.opt = \"adam\"\n",
        "config.lr = LR\n",
        "config.beta_1 = 0.5\n",
        "config.beta_2 = 0.999\n",
        "config.batch_size = 16"
      ],
      "execution_count": null,
      "outputs": [
        {
          "output_type": "stream",
          "text": [
            "\u001b[34m\u001b[1mwandb\u001b[0m: Currently logged in as: \u001b[33mbijin\u001b[0m (use `wandb login --relogin` to force relogin)\n"
          ],
          "name": "stderr"
        },
        {
          "output_type": "display_data",
          "data": {
            "text/html": [
              "\n",
              "                Tracking run with wandb version 0.10.32<br/>\n",
              "                Syncing run <strong style=\"color:#cdcd00\">absurd-firefly-5</strong> to <a href=\"https://wandb.ai\" target=\"_blank\">Weights & Biases</a> <a href=\"https://docs.wandb.com/integrations/jupyter.html\" target=\"_blank\">(Documentation)</a>.<br/>\n",
              "                Project page: <a href=\"https://wandb.ai/bijin/sketch_colorization\" target=\"_blank\">https://wandb.ai/bijin/sketch_colorization</a><br/>\n",
              "                Run page: <a href=\"https://wandb.ai/bijin/sketch_colorization/runs/1u790qmb\" target=\"_blank\">https://wandb.ai/bijin/sketch_colorization/runs/1u790qmb</a><br/>\n",
              "                Run data is saved locally in <code>/content/wandb/run-20210618_150409-1u790qmb</code><br/><br/>\n",
              "            "
            ],
            "text/plain": [
              "<IPython.core.display.HTML object>"
            ]
          },
          "metadata": {
            "tags": []
          }
        }
      ]
    },
    {
      "cell_type": "code",
      "metadata": {
        "colab": {
          "base_uri": "https://localhost:8080/"
        },
        "id": "pBVMxF3w5sOu",
        "outputId": "07b5fd0a-4299-4800-f100-57a12c59d99a"
      },
      "source": [
        "n_batches = 14224/BATCH_SIZE\n",
        "n_batches"
      ],
      "execution_count": null,
      "outputs": [
        {
          "output_type": "execute_result",
          "data": {
            "text/plain": [
              "508.0"
            ]
          },
          "metadata": {
            "tags": []
          },
          "execution_count": 4
        }
      ]
    },
    {
      "cell_type": "code",
      "metadata": {
        "id": "LXhkvpfeto5X"
      },
      "source": [
        "def load_image(path):\n",
        "    image = tf.io.read_file(path)\n",
        "    image = tf.io.decode_png(image, channels=3)\n",
        "    # cast and normalize\n",
        "    image = tf.cast(image, tf.float32)/127.5 - 1\n",
        "    w = tf.shape(image)[1]\n",
        "    w = w // 2\n",
        "    # split\n",
        "    label = image[:, :w, :]\n",
        "    sketch = image[:, w:, :]\n",
        "    # resize\n",
        "    # not doing this causes issues down the road\n",
        "    label = tf.image.resize(label, (256, 256))\n",
        "    sketch = tf.image.resize(sketch, (256, 256))\n",
        "    return label, sketch"
      ],
      "execution_count": null,
      "outputs": []
    },
    {
      "cell_type": "code",
      "metadata": {
        "id": "NF1BPE03tmax"
      },
      "source": [
        "dataset_path = glob.glob('/content/data/train/*.png')\n",
        "dataset = tf.data.Dataset.from_tensor_slices(dataset_path)"
      ],
      "execution_count": null,
      "outputs": []
    },
    {
      "cell_type": "code",
      "metadata": {
        "colab": {
          "base_uri": "https://localhost:8080/"
        },
        "id": "At5Imbkjtph7",
        "outputId": "4183f50c-c034-40e2-b838-e3b9c0003361"
      },
      "source": [
        "dataset = dataset.map(load_image, num_parallel_calls = tf.data.experimental.AUTOTUNE)\n",
        "dataset"
      ],
      "execution_count": null,
      "outputs": [
        {
          "output_type": "execute_result",
          "data": {
            "text/plain": [
              "<ParallelMapDataset shapes: ((256, 256, 3), (256, 256, 3)), types: (tf.float32, tf.float32)>"
            ]
          },
          "metadata": {
            "tags": []
          },
          "execution_count": 7
        }
      ]
    },
    {
      "cell_type": "code",
      "metadata": {
        "id": "yuoDRuijtsvR"
      },
      "source": [
        "train_dataset = dataset.shuffle(BUFFER_SIZE).batch(BATCH_SIZE)\n",
        "train_dataset = train_dataset.prefetch(buffer_size=tf.data.experimental.AUTOTUNE)"
      ],
      "execution_count": null,
      "outputs": []
    },
    {
      "cell_type": "code",
      "metadata": {
        "id": "NAw13xoBu4oD"
      },
      "source": [
        "dataset_path = glob.glob('/content/data/val/*.png')\n",
        "val_dataset = tf.data.Dataset.from_tensor_slices(dataset_path)\n",
        "val_dataset = val_dataset.map(load_image, num_parallel_calls = tf.data.experimental.AUTOTUNE)\n",
        "val_dataset = val_dataset.batch(5)"
      ],
      "execution_count": null,
      "outputs": []
    },
    {
      "cell_type": "code",
      "metadata": {
        "id": "7d5tJivtt3Eo"
      },
      "source": [
        "def encoder_unit(input, filters, norm=None, act=None):\n",
        "    if norm==\"Instance\":\n",
        "        x = tfa.layers.InstanceNormalization(axis=3, center=True, scale=True, \n",
        "                                             beta_initializer=\"random_uniform\",\n",
        "                                             gamma_initializer=\"random_uniform\")(input)\n",
        "    elif norm ==\"Batch\":\n",
        "        x = BatchNormalization()(input)\n",
        "    else:\n",
        "        x = input\n",
        "    x = Conv2D(filters, kernel_size=(4, 4), strides=(2, 2), padding=\"same\", kernel_initializer=initializer)(x)\n",
        "    if act==\"LReLU\":\n",
        "        x = LeakyReLU(0.2)(x)\n",
        "    return x"
      ],
      "execution_count": null,
      "outputs": []
    },
    {
      "cell_type": "code",
      "metadata": {
        "id": "gH8AFc9BxL9Z"
      },
      "source": [
        "def decoder_unit(input, filters, norm=None, act=None):\n",
        "    if norm==\"Instance\":\n",
        "        x = tfa.layers.InstanceNormalization(axis=3, center=True, scale=True,\n",
        "                                             beta_initializer=\"random_uniform\",\n",
        "                                             gamma_initializer=\"random_uniform\")(input)\n",
        "    elif norm==\"Batch\":\n",
        "        x = BatchNormalization()(input)\n",
        "    else:\n",
        "        x = input\n",
        "    x = Conv2DTranspose(filters, kernel_size=4, strides=(2, 2), padding='same', kernel_initializer=initializer)(x)\n",
        "    if act==\"LReLU\":\n",
        "        x = LeakyReLU(0.2)(x)\n",
        "    elif act==\"tanh\":\n",
        "        x = tf.math.tanh(x)\n",
        "    return x "
      ],
      "execution_count": null,
      "outputs": []
    },
    {
      "cell_type": "code",
      "metadata": {
        "id": "VohZ70Tbxrzq"
      },
      "source": [
        "def autoencoder():\n",
        "    input = Input((256, 256, 3))\n",
        "    x = encoder_unit(input, 32, act=\"LReLU\")\n",
        "    x = encoder_unit(x, 64 , norm=\"Instance\", act=\"LReLU\")\n",
        "    x = encoder_unit(x, 128, norm=\"Instance\", act=\"LReLU\")\n",
        "    x = encoder_unit(x, 256, norm=\"Instance\", act=\"LReLU\")\n",
        "    x = encoder_unit(x, 512, norm=\"Instance\", act=\"LReLU\")\n",
        "\n",
        "    x = decoder_unit(x, 256, norm=\"Instance\", act=\"LReLU\")\n",
        "    x = decoder_unit(x, 128, norm=\"Instance\", act=\"LReLU\")\n",
        "    x = decoder_unit(x, 64, norm=\"Instance\", act=\"LReLU\")\n",
        "    x = decoder_unit(x, 32, norm=\"Instance\", act=\"LReLU\")\n",
        "    x = decoder_unit(x, 3, norm=\"Instance\", act=\"tanh\")\n",
        "    return Model(inputs=[input], outputs=x)"
      ],
      "execution_count": null,
      "outputs": []
    },
    {
      "cell_type": "code",
      "metadata": {
        "colab": {
          "base_uri": "https://localhost:8080/"
        },
        "id": "MVr7QndRx_5T",
        "outputId": "b300729e-64de-445d-98cf-bcb63acc4384"
      },
      "source": [
        "opt = tf.keras.optimizers.Adam(LR, beta_1=beta_1, beta_2=beta_2)\n",
        "l1_loss = tf.keras.losses.MeanAbsoluteError()\n",
        "ae = autoencoder()\n",
        "ae.summary()"
      ],
      "execution_count": null,
      "outputs": [
        {
          "output_type": "stream",
          "text": [
            "Model: \"model\"\n",
            "_________________________________________________________________\n",
            "Layer (type)                 Output Shape              Param #   \n",
            "=================================================================\n",
            "input_1 (InputLayer)         [(None, 256, 256, 3)]     0         \n",
            "_________________________________________________________________\n",
            "conv2d (Conv2D)              (None, 128, 128, 32)      1568      \n",
            "_________________________________________________________________\n",
            "leaky_re_lu (LeakyReLU)      (None, 128, 128, 32)      0         \n",
            "_________________________________________________________________\n",
            "instance_normalization (Inst (None, 128, 128, 32)      64        \n",
            "_________________________________________________________________\n",
            "conv2d_1 (Conv2D)            (None, 64, 64, 64)        32832     \n",
            "_________________________________________________________________\n",
            "leaky_re_lu_1 (LeakyReLU)    (None, 64, 64, 64)        0         \n",
            "_________________________________________________________________\n",
            "instance_normalization_1 (In (None, 64, 64, 64)        128       \n",
            "_________________________________________________________________\n",
            "conv2d_2 (Conv2D)            (None, 32, 32, 128)       131200    \n",
            "_________________________________________________________________\n",
            "leaky_re_lu_2 (LeakyReLU)    (None, 32, 32, 128)       0         \n",
            "_________________________________________________________________\n",
            "instance_normalization_2 (In (None, 32, 32, 128)       256       \n",
            "_________________________________________________________________\n",
            "conv2d_3 (Conv2D)            (None, 16, 16, 256)       524544    \n",
            "_________________________________________________________________\n",
            "leaky_re_lu_3 (LeakyReLU)    (None, 16, 16, 256)       0         \n",
            "_________________________________________________________________\n",
            "instance_normalization_3 (In (None, 16, 16, 256)       512       \n",
            "_________________________________________________________________\n",
            "conv2d_4 (Conv2D)            (None, 8, 8, 512)         2097664   \n",
            "_________________________________________________________________\n",
            "leaky_re_lu_4 (LeakyReLU)    (None, 8, 8, 512)         0         \n",
            "_________________________________________________________________\n",
            "instance_normalization_4 (In (None, 8, 8, 512)         1024      \n",
            "_________________________________________________________________\n",
            "conv2d_transpose (Conv2DTran (None, 16, 16, 256)       2097408   \n",
            "_________________________________________________________________\n",
            "leaky_re_lu_5 (LeakyReLU)    (None, 16, 16, 256)       0         \n",
            "_________________________________________________________________\n",
            "instance_normalization_5 (In (None, 16, 16, 256)       512       \n",
            "_________________________________________________________________\n",
            "conv2d_transpose_1 (Conv2DTr (None, 32, 32, 128)       524416    \n",
            "_________________________________________________________________\n",
            "leaky_re_lu_6 (LeakyReLU)    (None, 32, 32, 128)       0         \n",
            "_________________________________________________________________\n",
            "instance_normalization_6 (In (None, 32, 32, 128)       256       \n",
            "_________________________________________________________________\n",
            "conv2d_transpose_2 (Conv2DTr (None, 64, 64, 64)        131136    \n",
            "_________________________________________________________________\n",
            "leaky_re_lu_7 (LeakyReLU)    (None, 64, 64, 64)        0         \n",
            "_________________________________________________________________\n",
            "instance_normalization_7 (In (None, 64, 64, 64)        128       \n",
            "_________________________________________________________________\n",
            "conv2d_transpose_3 (Conv2DTr (None, 128, 128, 32)      32800     \n",
            "_________________________________________________________________\n",
            "leaky_re_lu_8 (LeakyReLU)    (None, 128, 128, 32)      0         \n",
            "_________________________________________________________________\n",
            "instance_normalization_8 (In (None, 128, 128, 32)      64        \n",
            "_________________________________________________________________\n",
            "conv2d_transpose_4 (Conv2DTr (None, 256, 256, 3)       1539      \n",
            "_________________________________________________________________\n",
            "tf.math.tanh (TFOpLambda)    (None, 256, 256, 3)       0         \n",
            "=================================================================\n",
            "Total params: 5,578,051\n",
            "Trainable params: 5,578,051\n",
            "Non-trainable params: 0\n",
            "_________________________________________________________________\n"
          ],
          "name": "stdout"
        }
      ]
    },
    {
      "cell_type": "code",
      "metadata": {
        "id": "U9_X_90g6y2A"
      },
      "source": [
        "ckpt_dir = '/content/ckpt'\n",
        "ckpt = tf.train.Checkpoint(ae=ae,\n",
        "                           opt=opt)\n",
        "manager = tf.train.CheckpointManager(ckpt, ckpt_dir, max_to_keep=3)"
      ],
      "execution_count": null,
      "outputs": []
    },
    {
      "cell_type": "code",
      "metadata": {
        "id": "7Z9IS7BZ6UB1"
      },
      "source": [
        "@tf.function\n",
        "def train_step(x, y):\n",
        "    with tf.GradientTape() as tape:\n",
        "        y_hat = ae(x)\n",
        "        loss = l1_loss(y, y_hat)\n",
        "    grads = tape.gradient(loss, ae.trainable_variables)\n",
        "    opt.apply_gradients(zip(grads, ae.trainable_variables))\n",
        "    return loss"
      ],
      "execution_count": null,
      "outputs": []
    },
    {
      "cell_type": "code",
      "metadata": {
        "id": "H66jUHCsH5Fu"
      },
      "source": [
        "def log(loss, color, sketch, output, n=BATCH_SIZE):\n",
        "    images = []\n",
        "    for i in range(n):\n",
        "        img_row = np.hstack([color[i], sketch[i], output[i]]) * 0.5 + 0.5\n",
        "        images.append(img_row)\n",
        "    images = wandb.Image(np.vstack(images), caption=\"Left: Color, Mid: Sketch, Right: Output\")\n",
        "    wandb.log({\"loss\": loss, \"examples\": images})"
      ],
      "execution_count": null,
      "outputs": []
    },
    {
      "cell_type": "code",
      "metadata": {
        "id": "kd1zt8Ec3vY5"
      },
      "source": [
        "def fit():\n",
        "    val_iter = iter(val_dataset)\n",
        "    for ep in range(EPOCHS):\n",
        "        named_tuple = time.localtime()\n",
        "        time_string = time.strftime(\"%m/%d/%Y, %H:%M:%S\", named_tuple)\n",
        "        print(f'\\nEpoch: {ep + 1} of {EPOCHS}\\nStarted: {time_string}')\n",
        "\n",
        "        losses = []\n",
        "\n",
        "        for idx, (colors, sketches) in tqdm(train_dataset.enumerate(), total=n_batches):\n",
        "            loss = train_step(sketches, colors)\n",
        "            losses.append(loss)\n",
        "\n",
        "        loss = np.mean(np.array(losses))\n",
        "        named_tuple = time.localtime()\n",
        "        time_string = time.strftime(\"%m/%d/%Y, %H:%M:%S\", named_tuple)\n",
        "        print(f'\\nEnded: {time_string}\\nloss: {loss}')\n",
        "\n",
        "        path = manager.save()\n",
        "        print(f'\\nCheckpoint saved in: {path}')\n",
        "\n",
        "        colors, sketches = val_iter.next()\n",
        "        outs = ae(sketches)\n",
        "        log(loss, colors, sketches, outs, n=5)"
      ],
      "execution_count": null,
      "outputs": []
    },
    {
      "cell_type": "code",
      "metadata": {
        "id": "eINw_L9k9Br1",
        "colab": {
          "base_uri": "https://localhost:8080/"
        },
        "outputId": "e96a5f9b-4c9d-4224-b27f-faed633cf91d"
      },
      "source": [
        "fit()"
      ],
      "execution_count": null,
      "outputs": [
        {
          "output_type": "stream",
          "text": [
            "\r  0%|          | 0/508.0 [00:00<?, ?it/s]"
          ],
          "name": "stderr"
        },
        {
          "output_type": "stream",
          "text": [
            "\n",
            "Epoch: 1 of 20\n",
            "Started: 06/18/2021, 15:04:18\n"
          ],
          "name": "stdout"
        },
        {
          "output_type": "stream",
          "text": [
            "100%|██████████| 508/508.0 [03:00<00:00,  2.82it/s]\n"
          ],
          "name": "stderr"
        },
        {
          "output_type": "stream",
          "text": [
            "\n",
            "Ended: 06/18/2021, 15:07:19\n",
            "loss: 0.5684372186660767\n",
            "\n",
            "Checkpoint saved in: /content/ckpt/ckpt-1\n"
          ],
          "name": "stdout"
        },
        {
          "output_type": "stream",
          "text": [
            "\r  0%|          | 0/508.0 [00:00<?, ?it/s]"
          ],
          "name": "stderr"
        },
        {
          "output_type": "stream",
          "text": [
            "\n",
            "Epoch: 2 of 20\n",
            "Started: 06/18/2021, 15:07:21\n"
          ],
          "name": "stdout"
        },
        {
          "output_type": "stream",
          "text": [
            "100%|██████████| 508/508.0 [02:34<00:00,  3.29it/s]\n"
          ],
          "name": "stderr"
        },
        {
          "output_type": "stream",
          "text": [
            "\n",
            "Ended: 06/18/2021, 15:09:56\n",
            "loss: 0.253737211227417\n",
            "\n",
            "Checkpoint saved in: /content/ckpt/ckpt-2\n"
          ],
          "name": "stdout"
        },
        {
          "output_type": "stream",
          "text": [
            "\r  0%|          | 0/508.0 [00:00<?, ?it/s]"
          ],
          "name": "stderr"
        },
        {
          "output_type": "stream",
          "text": [
            "\n",
            "Epoch: 3 of 20\n",
            "Started: 06/18/2021, 15:09:58\n"
          ],
          "name": "stdout"
        },
        {
          "output_type": "stream",
          "text": [
            "100%|██████████| 508/508.0 [03:21<00:00,  2.52it/s]\n"
          ],
          "name": "stderr"
        },
        {
          "output_type": "stream",
          "text": [
            "\n",
            "Ended: 06/18/2021, 15:13:20\n",
            "loss: 0.20248804986476898\n",
            "\n",
            "Checkpoint saved in: /content/ckpt/ckpt-3\n"
          ],
          "name": "stdout"
        },
        {
          "output_type": "stream",
          "text": [
            "\r  0%|          | 0/508.0 [00:00<?, ?it/s]"
          ],
          "name": "stderr"
        },
        {
          "output_type": "stream",
          "text": [
            "\n",
            "Epoch: 4 of 20\n",
            "Started: 06/18/2021, 15:13:22\n"
          ],
          "name": "stdout"
        },
        {
          "output_type": "stream",
          "text": [
            "100%|██████████| 508/508.0 [02:35<00:00,  3.27it/s]\n"
          ],
          "name": "stderr"
        },
        {
          "output_type": "stream",
          "text": [
            "\n",
            "Ended: 06/18/2021, 15:15:58\n",
            "loss: 0.1883743405342102\n",
            "\n",
            "Checkpoint saved in: /content/ckpt/ckpt-4\n"
          ],
          "name": "stdout"
        },
        {
          "output_type": "stream",
          "text": [
            "\r  0%|          | 0/508.0 [00:00<?, ?it/s]"
          ],
          "name": "stderr"
        },
        {
          "output_type": "stream",
          "text": [
            "\n",
            "Epoch: 5 of 20\n",
            "Started: 06/18/2021, 15:15:58\n"
          ],
          "name": "stdout"
        },
        {
          "output_type": "stream",
          "text": [
            "100%|██████████| 508/508.0 [02:35<00:00,  3.26it/s]\n"
          ],
          "name": "stderr"
        },
        {
          "output_type": "stream",
          "text": [
            "\n",
            "Ended: 06/18/2021, 15:18:34\n",
            "loss: 0.18069003522396088\n",
            "\n",
            "Checkpoint saved in: /content/ckpt/ckpt-5\n"
          ],
          "name": "stdout"
        },
        {
          "output_type": "stream",
          "text": [
            "\r  0%|          | 0/508.0 [00:00<?, ?it/s]"
          ],
          "name": "stderr"
        },
        {
          "output_type": "stream",
          "text": [
            "\n",
            "Epoch: 6 of 20\n",
            "Started: 06/18/2021, 15:18:35\n"
          ],
          "name": "stdout"
        },
        {
          "output_type": "stream",
          "text": [
            "100%|██████████| 508/508.0 [02:34<00:00,  3.28it/s]\n"
          ],
          "name": "stderr"
        },
        {
          "output_type": "stream",
          "text": [
            "\n",
            "Ended: 06/18/2021, 15:21:10\n",
            "loss: 0.1754618138074875\n",
            "\n",
            "Checkpoint saved in: /content/ckpt/ckpt-6\n"
          ],
          "name": "stdout"
        },
        {
          "output_type": "stream",
          "text": [
            "\r  0%|          | 0/508.0 [00:00<?, ?it/s]"
          ],
          "name": "stderr"
        },
        {
          "output_type": "stream",
          "text": [
            "\n",
            "Epoch: 7 of 20\n",
            "Started: 06/18/2021, 15:21:10\n"
          ],
          "name": "stdout"
        },
        {
          "output_type": "stream",
          "text": [
            "100%|██████████| 508/508.0 [02:35<00:00,  3.27it/s]\n"
          ],
          "name": "stderr"
        },
        {
          "output_type": "stream",
          "text": [
            "\n",
            "Ended: 06/18/2021, 15:23:45\n",
            "loss: 0.17095227539539337\n",
            "\n",
            "Checkpoint saved in: /content/ckpt/ckpt-7\n"
          ],
          "name": "stdout"
        },
        {
          "output_type": "stream",
          "text": [
            "\r  0%|          | 0/508.0 [00:00<?, ?it/s]"
          ],
          "name": "stderr"
        },
        {
          "output_type": "stream",
          "text": [
            "\n",
            "Epoch: 8 of 20\n",
            "Started: 06/18/2021, 15:23:46\n"
          ],
          "name": "stdout"
        },
        {
          "output_type": "stream",
          "text": [
            "100%|██████████| 508/508.0 [02:35<00:00,  3.27it/s]\n"
          ],
          "name": "stderr"
        },
        {
          "output_type": "stream",
          "text": [
            "\n",
            "Ended: 06/18/2021, 15:26:22\n",
            "loss: 0.16656070947647095\n",
            "\n",
            "Checkpoint saved in: /content/ckpt/ckpt-8\n"
          ],
          "name": "stdout"
        },
        {
          "output_type": "stream",
          "text": [
            "\r  0%|          | 0/508.0 [00:00<?, ?it/s]"
          ],
          "name": "stderr"
        },
        {
          "output_type": "stream",
          "text": [
            "\n",
            "Epoch: 9 of 20\n",
            "Started: 06/18/2021, 15:26:22\n"
          ],
          "name": "stdout"
        },
        {
          "output_type": "stream",
          "text": [
            "100%|██████████| 508/508.0 [02:35<00:00,  3.26it/s]\n"
          ],
          "name": "stderr"
        },
        {
          "output_type": "stream",
          "text": [
            "\n",
            "Ended: 06/18/2021, 15:28:58\n",
            "loss: 0.16239042580127716\n",
            "\n",
            "Checkpoint saved in: /content/ckpt/ckpt-9\n"
          ],
          "name": "stdout"
        },
        {
          "output_type": "stream",
          "text": [
            "\r  0%|          | 0/508.0 [00:00<?, ?it/s]"
          ],
          "name": "stderr"
        },
        {
          "output_type": "stream",
          "text": [
            "\n",
            "Epoch: 10 of 20\n",
            "Started: 06/18/2021, 15:28:58\n"
          ],
          "name": "stdout"
        },
        {
          "output_type": "stream",
          "text": [
            "100%|██████████| 508/508.0 [02:35<00:00,  3.28it/s]\n"
          ],
          "name": "stderr"
        },
        {
          "output_type": "stream",
          "text": [
            "\n",
            "Ended: 06/18/2021, 15:31:33\n",
            "loss: 0.1580495685338974\n",
            "\n",
            "Checkpoint saved in: /content/ckpt/ckpt-10\n"
          ],
          "name": "stdout"
        },
        {
          "output_type": "stream",
          "text": [
            "\r  0%|          | 0/508.0 [00:00<?, ?it/s]"
          ],
          "name": "stderr"
        },
        {
          "output_type": "stream",
          "text": [
            "\n",
            "Epoch: 11 of 20\n",
            "Started: 06/18/2021, 15:31:34\n"
          ],
          "name": "stdout"
        },
        {
          "output_type": "stream",
          "text": [
            "100%|██████████| 508/508.0 [02:34<00:00,  3.28it/s]\n"
          ],
          "name": "stderr"
        },
        {
          "output_type": "stream",
          "text": [
            "\n",
            "Ended: 06/18/2021, 15:34:09\n",
            "loss: 0.15401937067508698\n",
            "\n",
            "Checkpoint saved in: /content/ckpt/ckpt-11\n"
          ],
          "name": "stdout"
        },
        {
          "output_type": "stream",
          "text": [
            "\r  0%|          | 0/508.0 [00:00<?, ?it/s]"
          ],
          "name": "stderr"
        },
        {
          "output_type": "stream",
          "text": [
            "\n",
            "Epoch: 12 of 20\n",
            "Started: 06/18/2021, 15:34:09\n"
          ],
          "name": "stdout"
        },
        {
          "output_type": "stream",
          "text": [
            "100%|██████████| 508/508.0 [02:34<00:00,  3.28it/s]\n"
          ],
          "name": "stderr"
        },
        {
          "output_type": "stream",
          "text": [
            "\n",
            "Ended: 06/18/2021, 15:36:44\n",
            "loss: 0.15002867579460144\n",
            "\n",
            "Checkpoint saved in: /content/ckpt/ckpt-12\n"
          ],
          "name": "stdout"
        },
        {
          "output_type": "stream",
          "text": [
            "\r  0%|          | 0/508.0 [00:00<?, ?it/s]"
          ],
          "name": "stderr"
        },
        {
          "output_type": "stream",
          "text": [
            "\n",
            "Epoch: 13 of 20\n",
            "Started: 06/18/2021, 15:36:44\n"
          ],
          "name": "stdout"
        },
        {
          "output_type": "stream",
          "text": [
            "100%|██████████| 508/508.0 [02:34<00:00,  3.29it/s]\n"
          ],
          "name": "stderr"
        },
        {
          "output_type": "stream",
          "text": [
            "\n",
            "Ended: 06/18/2021, 15:39:19\n",
            "loss: 0.14651882648468018\n",
            "\n",
            "Checkpoint saved in: /content/ckpt/ckpt-13\n"
          ],
          "name": "stdout"
        },
        {
          "output_type": "stream",
          "text": [
            "\r  0%|          | 0/508.0 [00:00<?, ?it/s]"
          ],
          "name": "stderr"
        },
        {
          "output_type": "stream",
          "text": [
            "\n",
            "Epoch: 14 of 20\n",
            "Started: 06/18/2021, 15:39:19\n"
          ],
          "name": "stdout"
        },
        {
          "output_type": "stream",
          "text": [
            "100%|██████████| 508/508.0 [02:34<00:00,  3.29it/s]\n"
          ],
          "name": "stderr"
        },
        {
          "output_type": "stream",
          "text": [
            "\n",
            "Ended: 06/18/2021, 15:41:54\n",
            "loss: 0.14311684668064117\n",
            "\n",
            "Checkpoint saved in: /content/ckpt/ckpt-14\n"
          ],
          "name": "stdout"
        },
        {
          "output_type": "stream",
          "text": [
            "\r  0%|          | 0/508.0 [00:00<?, ?it/s]"
          ],
          "name": "stderr"
        },
        {
          "output_type": "stream",
          "text": [
            "\n",
            "Epoch: 15 of 20\n",
            "Started: 06/18/2021, 15:41:54\n"
          ],
          "name": "stdout"
        },
        {
          "output_type": "stream",
          "text": [
            "100%|██████████| 508/508.0 [02:35<00:00,  3.27it/s]\n"
          ],
          "name": "stderr"
        },
        {
          "output_type": "stream",
          "text": [
            "\n",
            "Ended: 06/18/2021, 15:44:30\n",
            "loss: 0.1404239386320114\n",
            "\n",
            "Checkpoint saved in: /content/ckpt/ckpt-15\n"
          ],
          "name": "stdout"
        },
        {
          "output_type": "stream",
          "text": [
            "\r  0%|          | 0/508.0 [00:00<?, ?it/s]"
          ],
          "name": "stderr"
        },
        {
          "output_type": "stream",
          "text": [
            "\n",
            "Epoch: 16 of 20\n",
            "Started: 06/18/2021, 15:44:30\n"
          ],
          "name": "stdout"
        },
        {
          "output_type": "stream",
          "text": [
            "100%|██████████| 508/508.0 [02:34<00:00,  3.29it/s]\n"
          ],
          "name": "stderr"
        },
        {
          "output_type": "stream",
          "text": [
            "\n",
            "Ended: 06/18/2021, 15:47:05\n",
            "loss: 0.1380797028541565\n",
            "\n",
            "Checkpoint saved in: /content/ckpt/ckpt-16\n"
          ],
          "name": "stdout"
        },
        {
          "output_type": "stream",
          "text": [
            "\r  0%|          | 0/508.0 [00:00<?, ?it/s]"
          ],
          "name": "stderr"
        },
        {
          "output_type": "stream",
          "text": [
            "\n",
            "Epoch: 17 of 20\n",
            "Started: 06/18/2021, 15:47:05\n"
          ],
          "name": "stdout"
        },
        {
          "output_type": "stream",
          "text": [
            "100%|██████████| 508/508.0 [02:34<00:00,  3.28it/s]\n"
          ],
          "name": "stderr"
        },
        {
          "output_type": "stream",
          "text": [
            "\n",
            "Ended: 06/18/2021, 15:49:40\n",
            "loss: 0.13549792766571045\n",
            "\n",
            "Checkpoint saved in: /content/ckpt/ckpt-17\n"
          ],
          "name": "stdout"
        },
        {
          "output_type": "stream",
          "text": [
            "\r  0%|          | 0/508.0 [00:00<?, ?it/s]"
          ],
          "name": "stderr"
        },
        {
          "output_type": "stream",
          "text": [
            "\n",
            "Epoch: 18 of 20\n",
            "Started: 06/18/2021, 15:49:40\n"
          ],
          "name": "stdout"
        },
        {
          "output_type": "stream",
          "text": [
            "100%|██████████| 508/508.0 [02:34<00:00,  3.30it/s]\n"
          ],
          "name": "stderr"
        },
        {
          "output_type": "stream",
          "text": [
            "\n",
            "Ended: 06/18/2021, 15:52:15\n",
            "loss: 0.13324987888336182\n",
            "\n",
            "Checkpoint saved in: /content/ckpt/ckpt-18\n"
          ],
          "name": "stdout"
        },
        {
          "output_type": "stream",
          "text": [
            "\r  0%|          | 0/508.0 [00:00<?, ?it/s]"
          ],
          "name": "stderr"
        },
        {
          "output_type": "stream",
          "text": [
            "\n",
            "Epoch: 19 of 20\n",
            "Started: 06/18/2021, 15:52:15\n"
          ],
          "name": "stdout"
        },
        {
          "output_type": "stream",
          "text": [
            "100%|██████████| 508/508.0 [02:35<00:00,  3.26it/s]\n"
          ],
          "name": "stderr"
        },
        {
          "output_type": "stream",
          "text": [
            "\n",
            "Ended: 06/18/2021, 15:54:51\n",
            "loss: 0.13152816891670227\n",
            "\n",
            "Checkpoint saved in: /content/ckpt/ckpt-19\n"
          ],
          "name": "stdout"
        },
        {
          "output_type": "stream",
          "text": [
            "\r  0%|          | 0/508.0 [00:00<?, ?it/s]"
          ],
          "name": "stderr"
        },
        {
          "output_type": "stream",
          "text": [
            "\n",
            "Epoch: 20 of 20\n",
            "Started: 06/18/2021, 15:54:51\n"
          ],
          "name": "stdout"
        },
        {
          "output_type": "stream",
          "text": [
            "100%|██████████| 508/508.0 [02:36<00:00,  3.25it/s]\n"
          ],
          "name": "stderr"
        },
        {
          "output_type": "stream",
          "text": [
            "\n",
            "Ended: 06/18/2021, 15:57:28\n",
            "loss: 0.1298578530550003\n",
            "\n",
            "Checkpoint saved in: /content/ckpt/ckpt-20\n"
          ],
          "name": "stdout"
        }
      ]
    },
    {
      "cell_type": "code",
      "metadata": {
        "id": "Y--q3sMOfHPq",
        "colab": {
          "base_uri": "https://localhost:8080/"
        },
        "outputId": "922757f3-44a4-4673-ab2e-d8a1b15f59b7"
      },
      "source": [
        "ae.save(ckpt_dir + '/sketch_colorization_ae.h5')\n",
        "model_artifact = wandb.Artifact(\"sketch_colorization_AE\", type=\"model\", \n",
        "                                description=\"autoencoder model checkpoint\")\n",
        "model_artifact.add_file(ckpt_dir + '/sketch_colorization_ae.h5')\n",
        "run.log_artifact(model_artifact)"
      ],
      "execution_count": null,
      "outputs": [
        {
          "output_type": "stream",
          "text": [
            "WARNING:tensorflow:Compiled the loaded model, but the compiled metrics have yet to be built. `model.compile_metrics` will be empty until you train or evaluate the model.\n"
          ],
          "name": "stdout"
        },
        {
          "output_type": "execute_result",
          "data": {
            "text/plain": [
              "<wandb.sdk.wandb_artifacts.Artifact at 0x7f2360066dd0>"
            ]
          },
          "metadata": {
            "tags": []
          },
          "execution_count": 19
        }
      ]
    },
    {
      "cell_type": "code",
      "metadata": {
        "id": "nQR5MpK2k7Sn"
      },
      "source": [
        ""
      ],
      "execution_count": null,
      "outputs": []
    }
  ]
}